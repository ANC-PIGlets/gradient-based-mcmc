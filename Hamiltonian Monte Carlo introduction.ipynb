{
 "cells": [
  {
   "cell_type": "markdown",
   "metadata": {
    "slideshow": {
     "slide_type": "slide"
    }
   },
   "source": [
    "# Hamiltonian Monte Carlo\n",
    "\n",
    "## A brief(ish) introduction"
   ]
  },
  {
   "cell_type": "markdown",
   "metadata": {
    "slideshow": {
     "slide_type": "slide"
    }
   },
   "source": [
    "## Motivation"
   ]
  },
  {
   "cell_type": "markdown",
   "metadata": {
    "slideshow": {
     "slide_type": "subslide"
    }
   },
   "source": [
    "### Problem definition"
   ]
  },
  {
   "cell_type": "markdown",
   "metadata": {
    "slideshow": {
     "slide_type": "fragment"
    }
   },
   "source": [
    "Given some probability distribution defined on a real vector space $\\mathbb{R}^D$ by the density function  \n",
    "\n",
    "$$ \n",
    "  \\mathbb{p}\\left[\\mathbf{x} = \\boldsymbol{x}\\right] \\propto\n",
    "  \\exp \\left\\lbrace - \\phi(\\boldsymbol{x}) \\right\\rbrace,\n",
    "$$"
   ]
  },
  {
   "cell_type": "markdown",
   "metadata": {
    "slideshow": {
     "slide_type": "fragment"
    }
   },
   "source": [
    "generate a set of samples $\\left\\lbrace \\boldsymbol{x}^{(n)}\\right\\rbrace_{n=1}^N$ from a Markov chain which has the distribution defined by $\\mathbb{p}\\left[\\mathbf{x} = \\boldsymbol{x}\\right]$ as its unique invariant measure."
   ]
  },
  {
   "cell_type": "markdown",
   "metadata": {
    "slideshow": {
     "slide_type": "subslide"
    }
   },
   "source": [
    "The MCMC samples can then be used to compute Monte Carlo approximation to expectations \n",
    "\n",
    "$$\n",
    "  \\mathbb{E}\\left[\\,f(\\mathbf{x})\\,\\right] \\approx \\frac{1}{M} \\sum_{n=1}^N \\left\\lbrace f\\left( \\boldsymbol{x}^{(n)} \\right) \\right\\rbrace.\n",
    "$$"
   ]
  },
  {
   "cell_type": "markdown",
   "metadata": {
    "slideshow": {
     "slide_type": "subslide"
    }
   },
   "source": [
    "### Assumptions\n",
    "\n",
    "<ul>\n",
    "  <li class=\"fragment\"> \n",
    "    Support of distribution is full vector space: \n",
    "    \n",
    "    $$\\mathbb{p}\\left[\\mathbf{x} = \\boldsymbol{x}\\right] > 0 \\quad\\forall \\boldsymbol{x} \\in \\mathbb{R}^N.$$\n",
    " \n",
    "    If support is a bounded subset can sometimes transform to an equivalent unconstrained space using variable transform e.g. $\\log(u - c)$ if $u > c$.\n",
    "  </li>\n",
    "  <li class=\"fragment\">\n",
    "    Density function (and energy) is everywhere differentiable with respect to $\\boldsymbol{x}$ and the gradients can be tractably computed.\n",
    "  </li>\n",
    "</ul>"
   ]
  },
  {
   "cell_type": "markdown",
   "metadata": {
    "slideshow": {
     "slide_type": "subslide"
    }
   },
   "source": [
    "### Metropolis-Hastings - quick recap"
   ]
  },
  {
   "cell_type": "markdown",
   "metadata": {
    "slideshow": {
     "slide_type": "fragment"
    }
   },
   "source": [
    "Define a proposal density $q\\left[\\boldsymbol{x}' \\,|\\, \\boldsymbol{x}\\right]$ we can tractably sample from, generate a sample from it given the current state and then accept the proposal with probability\n",
    "\n",
    "$$\n",
    "  a \\left[ \\boldsymbol{x}' \\,|\\, \\boldsymbol{x} \\right] =\n",
    "  \\min \\left\\lbrace 1, \n",
    "    \\frac{q\\left[\\boldsymbol{x} \\,|\\, \\boldsymbol{x}'\\right]\n",
    "          \\mathbb{p}\\left[\\mathbf{x} = \\boldsymbol{x}'\\right]}\n",
    "         {q\\left[\\boldsymbol{x}' \\,|\\, \\boldsymbol{x}\\right]\n",
    "         \\mathbb{p}\\left[\\mathbf{x} = \\boldsymbol{x}\\right]} \\left|\\frac{\\partial \\boldsymbol{x}'}{\\partial \\boldsymbol{x}}\\right| \\right\\rbrace.\n",
    "$$"
   ]
  },
  {
   "cell_type": "markdown",
   "metadata": {
    "slideshow": {
     "slide_type": "fragment"
    }
   },
   "source": [
    "For derivation and explanation of Jacobian term in acceptance ratio see [Green (1995)](http://biomet.oxfordjournals.org/content/82/4/711.short) or [Lan et al. (2012)](http://arxiv.org/abs/1211.3759)."
   ]
  },
  {
   "cell_type": "markdown",
   "metadata": {
    "slideshow": {
     "slide_type": "subslide"
    }
   },
   "source": [
    "If proposal density is symmetric\n",
    "\n",
    "\\begin{equation}\n",
    "  q\\left[\\boldsymbol{x}' \\,|\\, \\boldsymbol{x}\\right] = \n",
    "  q\\left[\\boldsymbol{x} \\,|\\, \\boldsymbol{x}'\\right]\n",
    "  \\quad\\forall \\boldsymbol{x},\\, \\boldsymbol{x}' \\in \\mathbb{R}^N,\n",
    "\\end{equation}"
   ]
  },
  {
   "cell_type": "markdown",
   "metadata": {
    "slideshow": {
     "slide_type": "fragment"
    }
   },
   "source": [
    "then the acceptance probability reduces to\n",
    "\n",
    "$$\n",
    "  a \\left[ \\boldsymbol{x}' \\,|\\, \\boldsymbol{x} \\right] =\n",
    "  \\min \\left\\lbrace 1, \\exp\\left[ \\phi(\\boldsymbol{x}) - \\phi(\\boldsymbol{x}') \\right] \\left|\\frac{\\partial \\boldsymbol{x}'}{\\partial \\boldsymbol{x}}\\right| \\right\\rbrace.\n",
    "$$"
   ]
  },
  {
   "cell_type": "markdown",
   "metadata": {
    "slideshow": {
     "slide_type": "fragment"
    }
   },
   "source": [
    "Key problem is finding proposal density that allows proposes 'large' moves with high probability of acceptance."
   ]
  },
  {
   "cell_type": "markdown",
   "metadata": {
    "slideshow": {
     "slide_type": "slide"
    }
   },
   "source": [
    "## Abstract description of   \n",
    "## Hamiltonian Monte Carlo"
   ]
  },
  {
   "cell_type": "markdown",
   "metadata": {
    "slideshow": {
     "slide_type": "subslide"
    }
   },
   "source": [
    "### Augment state space\n",
    "\n",
    "Augment state space with a vector 'momentum' variable $\\mathbf{p} \\in \\mathbb{R}^D$ and a signed 'time direction' variable $\\mathsf{d} \\in \\left\\lbrace -1,\\,+1 \\right\\rbrace$"
   ]
  },
  {
   "cell_type": "markdown",
   "metadata": {
    "slideshow": {
     "slide_type": "fragment"
    }
   },
   "source": [
    "\\begin{align}\n",
    "  \\mathbb{p}\\left[\\mathbf{p} = \\boldsymbol{p} \\,|\\,\\mathbf{x} = \\boldsymbol{x}\\right] &\\propto \\exp\\left\\lbrace - \\tau(\\boldsymbol{x}, \\boldsymbol{p}) \\right\\rbrace,\n",
    "\\\\\n",
    "  \\mathbb{P}\\left[\\mathsf{d} = d\\,|\\,\\mathbf{x} = \\boldsymbol{x},\\,\\mathbf{p} = \\boldsymbol{x}\\right] &= \\frac{1}{2},\n",
    "\\end{align}"
   ]
  },
  {
   "cell_type": "markdown",
   "metadata": {
    "slideshow": {
     "slide_type": "fragment"
    }
   },
   "source": [
    "\\begin{equation}\n",
    "  \\therefore \\quad \\mathbb{p}\\left[\\mathbf{x} = \\boldsymbol{x},\\,\\mathbf{p}=\\boldsymbol{p},\\,\\mathsf{d}=d\\right] \\propto \n",
    "  \\exp\\underbrace{\\left\\lbrace -\\phi(\\boldsymbol{x}) - \\tau(\\boldsymbol{x}, \\boldsymbol{p})\\right\\rbrace}_{-H(\\boldsymbol{x}, \\boldsymbol{p})}.\n",
    "\\end{equation}"
   ]
  },
  {
   "cell_type": "markdown",
   "metadata": {
    "slideshow": {
     "slide_type": "subslide"
    }
   },
   "source": [
    "### Hamiltonian dynamic in augmented state space\n",
    "\n",
    "If $\\mathbf{S}$ is a $2D\\times 2D$ constant non-singular skew-symmetric matrix then we can define a Hamiltonian dynamic on the joint system $\\boldsymbol{z} = \\left[ \\boldsymbol{x};\\, \\boldsymbol{p} \\right]$ by\n",
    "\n",
    "$$\n",
    "  \\frac{\\mathrm{d}\\boldsymbol{z}}{\\mathrm{d} t} = d \\, \\mathbf{S} \\frac{\\partial H}{\\partial\\boldsymbol{z}} ~~\\Leftrightarrow~~\n",
    "  \\left[\n",
    "    \\begin{array}{c}\n",
    "      \\frac{\\mathrm{d}\\boldsymbol{x}}{\\mathrm{d}t} \\\\ \n",
    "      \\frac{\\mathrm{d}\\boldsymbol{p}}{\\mathrm{d}t}\n",
    "    \\end{array}\n",
    "  \\right]\n",
    "  =\n",
    "  d \\, \\mathbf{S}\n",
    "  \\left[\n",
    "    \\begin{array}{c}\n",
    "      \\frac{\\partial H}{\\partial\\boldsymbol{x}} \\\\ \n",
    "      \\frac{\\partial H}{\\partial\\boldsymbol{p}}\n",
    "    \\end{array}\n",
    "  \\right].\n",
    "$$"
   ]
  },
  {
   "cell_type": "markdown",
   "metadata": {
    "slideshow": {
     "slide_type": "subslide"
    }
   },
   "source": [
    "A flow map $\\Psi_{T,d}\\left\\lbrace \\boldsymbol{z}_0 \\right\\rbrace = \\boldsymbol{z}(T)$ is then defined by the solution $\\boldsymbol{z}(T)$ to the initial value problem\n",
    "\n",
    "$$\n",
    "  \\frac{\\mathrm{d}\\boldsymbol{z}}{\\mathrm{d}t} = \n",
    "  \\frac{\\partial H}{\\partial\\boldsymbol{z}}, ~~\n",
    "  \\boldsymbol{z}(0) = \\boldsymbol{z}_0, ~~\n",
    "  t \\in [0, T].\n",
    "$$"
   ]
  },
  {
   "cell_type": "markdown",
   "metadata": {
    "slideshow": {
     "slide_type": "fragment"
    }
   },
   "source": [
    "Typically $\n",
    "  \\mathbf{S} = \n",
    "  \\left[\n",
    "    \\begin{array}{cc}\n",
    "      \\mathbf{0} & \\mathbf{I} \\\\ \n",
    "      -\\mathbf{I} & \\mathbf{0}\n",
    "    \\end{array}\n",
    "  \\right]\n",
    "$ in which case the dynamic is *canonical*."
   ]
  },
  {
   "cell_type": "markdown",
   "metadata": {
    "slideshow": {
     "slide_type": "subslide"
    }
   },
   "source": [
    "### Properties of dynamic\n",
    "\n",
    "  * Exactly conserves the Hamiltonian $H(\\boldsymbol{z})$\n",
    "  \n",
    "  $$\n",
    "    \\frac{\\mathrm{d}H}{\\mathrm{d}t} = \n",
    "    \\frac{\\partial H}{\\partial\\boldsymbol{z}}^{\\mathrm{T}} \\frac{\\mathrm{d}\\boldsymbol{z}}{\\mathrm{d}t} = \n",
    "    d \\frac{\\partial H}{\\partial\\boldsymbol{z}}^{\\mathrm{T}} \\mathbf{S} \\frac{\\partial H}{\\partial\\boldsymbol{z}} = 0\n",
    "  $$"
   ]
  },
  {
   "cell_type": "markdown",
   "metadata": {
    "slideshow": {
     "slide_type": "fragment"
    }
   },
   "source": [
    "  * Reversible under negation of $\\mathsf{d}$\n",
    "  \n",
    "  $$ \n",
    "    \\text{If } \\boldsymbol{z}' = \n",
    "    \\Psi_{T,+1} \\left\\lbrace \\boldsymbol{z} \\right\\rbrace\n",
    "    \\text{ then } \\boldsymbol{z} = \n",
    "    \\Psi_{T,-1} \\left\\lbrace \\boldsymbol{z}' \\right\\rbrace.\n",
    "  $$"
   ]
  },
  {
   "cell_type": "markdown",
   "metadata": {
    "slideshow": {
     "slide_type": "subslide"
    }
   },
   "source": [
    "  \n",
    "  * Preserves volume as flow is divergence-free  \n",
    "  \n",
    "  $$ \n",
    "    \\left( \\frac{\\partial }{\\partial\\boldsymbol{z}} \\right)^{\\mathrm{T}} \\frac{\\mathrm{d}\\boldsymbol{z}}{\\mathrm{d}t} = \\mathrm{Tr} \\left[ \\mathbf{S} \\frac{\\partial^2 H}{\\partial \\boldsymbol{z}\\,\\partial\\boldsymbol{z}^{\\mathrm{T}}} \\right] = 0\n",
    "    ~~\\Rightarrow~~\n",
    "    \\frac{\\partial \\Psi_{T,d}}{\\partial\\boldsymbol{z}} = \\mathbf{I}.\n",
    "  $$"
   ]
  },
  {
   "cell_type": "markdown",
   "metadata": {
    "slideshow": {
     "slide_type": "subslide"
    }
   },
   "source": [
    "The dynamic also has the further property of being *symplectic map* with respect to the *structure matrix* $\\mathbf{S}$\n",
    "\n",
    "$$\n",
    "    \\frac{\\partial \\Psi_{T,d}}{\\partial\\boldsymbol{z}}^{\\mathrm{T}} \\mathbf{S}^{-1} \n",
    "    \\frac{\\partial \\Psi_{T,d}}{\\partial\\boldsymbol{z}} = \\mathbf{S}^{-1},\n",
    "$$\n",
    "\n",
    "see for example [Leimkuhler and Reich (2005)](http://ebooks.cambridge.org/ebook.jsf?bid=CBO9780511614118) for proof and more details. "
   ]
  },
  {
   "cell_type": "markdown",
   "metadata": {
    "slideshow": {
     "slide_type": "fragment"
    }
   },
   "source": [
    "Symplecticness implies volume preservation but is a more stringent requirment for $D > 1$."
   ]
  },
  {
   "cell_type": "markdown",
   "metadata": {
    "slideshow": {
     "slide_type": "slide"
    }
   },
   "source": [
    "### Exact Hamiltonian Monte Carlo\n",
    "\n",
    "If we therefore define a proposal density\n",
    "\n",
    "$$\n",
    "  q\\left[\\boldsymbol{z}', d' \\,|\\, \\boldsymbol{z}, d\\right] = \\delta \\left[ \\Psi_{T,d}\\left\\lbrace \\boldsymbol{z} \\right\\rbrace - \\boldsymbol{z}' \\right] \\delta \\left[ d - (-d') \\right],\n",
    "$$"
   ]
  },
  {
   "cell_type": "markdown",
   "metadata": {
    "slideshow": {
     "slide_type": "fragment"
    }
   },
   "source": [
    "i.e. propose new state by deterministically running Hamiltonian dynamics forward $T$ units of time then reverse time flow, then our acceptance probability will be unity\n",
    "\n",
    "$$\n",
    "  \\min \\left\\lbrace 1, \\exp\\left[ H(\\boldsymbol{z}') - H(\\boldsymbol{z}) \\right] \\left|\\frac{\\partial \\boldsymbol{z}'}{\\partial\\boldsymbol{z}}\\right| \\right\\rbrace = 1.\n",
    "$$"
   ]
  },
  {
   "cell_type": "markdown",
   "metadata": {
    "slideshow": {
     "slide_type": "subslide"
    }
   },
   "source": [
    "We can then deterministically flip $\\mathsf{d}$ (so on the next proposal we won't go back to our previous point) as \n",
    "\n",
    "$$\n",
    "  \\mathbb{P}\\left[\\mathsf{d}=\\pm1\\,|\\,\\mathbf{x}=\\boldsymbol{x},\\,\\mathbf{p}=\\boldsymbol{x}\\right] = \\frac{1}{2},\n",
    "$$ \n",
    "\n",
    "and so this move also leaves the joint density invariant."
   ]
  },
  {
   "cell_type": "markdown",
   "metadata": {
    "slideshow": {
     "slide_type": "fragment"
    }
   },
   "source": [
    "This composition of transitions will *not* be ergodic however in joint state space as we remain confined to the same constant Hamiltonian manifold."
   ]
  },
  {
   "cell_type": "markdown",
   "metadata": {
    "slideshow": {
     "slide_type": "slide"
    }
   },
   "source": [
    "## Moving to a concrete implementation"
   ]
  },
  {
   "cell_type": "markdown",
   "metadata": {
    "slideshow": {
     "slide_type": "subslide"
    }
   },
   "source": [
    "### Simulating Hamiltonian dynamics in practice\n",
    "\n",
    "  * In reality for most systems of interest we cannot compute the flow map $\\Psi_{T,d}$ exactly and so have to resort to discretisation and numerical integration."
   ]
  },
  {
   "cell_type": "markdown",
   "metadata": {
    "slideshow": {
     "slide_type": "fragment"
    }
   },
   "source": [
    "  \n",
    "  * Importantly there are numerical integration schemes which define an approximate flow map $\\tilde{\\Psi}_{T,d}$ which conserve the volume-preservation and reversibility properties of the exact dynamic $\\Psi_{T,d}$."
   ]
  },
  {
   "cell_type": "markdown",
   "metadata": {
    "slideshow": {
     "slide_type": "subslide"
    }
   },
   "source": [
    "  * In general Hamiltonian no longer exactly conserved under discretisation so will be some rejections."
   ]
  },
  {
   "cell_type": "markdown",
   "metadata": {
    "slideshow": {
     "slide_type": "fragment"
    }
   },
   "source": [
    "  * There is a class of integrators which also preserve the symplectic map property of the exact dynamic."
   ]
  },
  {
   "cell_type": "markdown",
   "metadata": {
    "slideshow": {
     "slide_type": "subslide"
    }
   },
   "source": [
    "Symplectic integrators have a further useful property: \n",
    "    <ul>\n",
    "      <li class=\"fragment\">\n",
    "        If discretised dynamic is stable they exactly integrate the dynamic of some 'nearby' Hamiltonian.\n",
    "      </li>\n",
    "     <li class=\"fragment\">\n",
    "       This is bounded to be within a fixed distance (depending on $\\delta t$ the discretisation time step) of the original Hamiltonian\n",
    "     </li>\n",
    "     <li class=\"fragment\">\n",
    "       Therefore can integrate dynamics over long time periods with high probability of acceptance.\n",
    "     </li>\n",
    "    </ul>"
   ]
  },
  {
   "cell_type": "markdown",
   "metadata": {
    "slideshow": {
     "slide_type": "subslide"
    }
   },
   "source": [
    "### Standard (‘Euclidean manifold’) HMC\n",
    "\n",
    "The standard (and original) implementation of HMC augments the system with variables which are independent of the original state and have a Gaussian conditional / marginal"
   ]
  },
  {
   "cell_type": "markdown",
   "metadata": {
    "slideshow": {
     "slide_type": "fragment"
    }
   },
   "source": [
    "$$\n",
    "  \\mathbb{p}\\left[\\mathbf{p}=\\boldsymbol{p}\\,|\\,\\mathbf{x}=\\boldsymbol{x}\\right] =\n",
    "  \\mathbb{p}\\left[\\mathbf{p}=\\boldsymbol{p}\\right] \\propto\n",
    "  \\exp \\underbrace{\\left\\lbrace - \\frac{1}{2}\\boldsymbol{p}^{\\mathrm{T}}\\mathbf{M}^{-1}\\boldsymbol{p}\\right\\rbrace}_{-\\tau(\\boldsymbol{p})}.\n",
    "$$"
   ]
  },
  {
   "cell_type": "markdown",
   "metadata": {
    "slideshow": {
     "slide_type": "subslide"
    }
   },
   "source": [
    "The derivative $\\frac{\\partial \\tau}{\\boldsymbol{p}} = \\mathbf{M}^{-1}\\boldsymbol{p}$ is now just a linear transform of the $\\boldsymbol{p}$ variables which can be considered in analogy to Newtonian mechanics momentum variables with $\\mathbf{M}$ a mass matrix"
   ]
  },
  {
   "cell_type": "markdown",
   "metadata": {
    "slideshow": {
     "slide_type": "fragment"
    }
   },
   "source": [
    "$$\n",
    "    \\mathbf{M} \\frac{\\mathrm{d}^2\\boldsymbol{x}}{\\mathrm{d}t^2} = \\boldsymbol{f}(\\boldsymbol{x}) ~\\Leftrightarrow~\n",
    "    \\frac{\\mathrm{d}\\boldsymbol{x}}{\\mathrm{d}t} = \\mathbf{M}^{-1} \\boldsymbol{p} ~~~\n",
    "    \\frac{\\mathrm{d}\\boldsymbol{p}}{\\mathrm{d}t} = \\boldsymbol{f}({x}) = -\\frac{\\partial \\phi}{\\partial\\boldsymbol{x}}.\n",
    "$$"
   ]
  },
  {
   "cell_type": "markdown",
   "metadata": {
    "slideshow": {
     "slide_type": "subslide"
    }
   },
   "source": [
    "In this case as the distribution on $\\mathbf{p}$ is symmetric there is no need to add a further binary direction variable $\\mathsf{d}$ as reversibility can be achieved by negating the momentum variables\n",
    "\n",
    "$$ \\tau(\\boldsymbol{p}) = \\tau(-\\boldsymbol{p}) = \\frac{1}{2}\\boldsymbol{p}^{\\mathrm{T}}\\mathbf{M}^{-1}\\boldsymbol{p}. $$"
   ]
  },
  {
   "cell_type": "markdown",
   "metadata": {
    "slideshow": {
     "slide_type": "fragment"
    }
   },
   "source": [
    "Further as $\\mathbb{p}\\left[\\mathbf{p}=\\boldsymbol{p}\\,|\\,\\mathbf{x}=\\boldsymbol{x}\\right]$ is Gaussian we can easily resample the momentum variables between dynamic proposal updates to alter the energy of the system and ensure ergodicity."
   ]
  },
  {
   "cell_type": "markdown",
   "metadata": {
    "slideshow": {
     "slide_type": "subslide"
    }
   },
   "source": [
    "### Leapfrog updates\n",
    "  \n",
    "For *separable* Hamiltonians (no terms coupling $\\boldsymbol{x}$ and $\\boldsymbol{p}$) there is a particularly efficient symplectic integration scheme called the leapgfrog (or Störmer-Verlet) method composed of two step types"
   ]
  },
  {
   "cell_type": "markdown",
   "metadata": {
    "slideshow": {
     "slide_type": "fragment"
    }
   },
   "source": [
    "\\begin{align}\n",
    "  \\Phi^{A}_{\\delta t}\n",
    "  \\left[\n",
    "    \\begin{array}{c}\n",
    "      \\boldsymbol{x} \\\\ \n",
    "      \\boldsymbol{p}\n",
    "    \\end{array}\n",
    "  \\right]\n",
    "  &=\n",
    "  \\left[\n",
    "    \\begin{array}{c}\n",
    "      \\boldsymbol{x} \\\\\n",
    "      \\boldsymbol{p} - \\delta t\\, \\frac{\\partial \\phi}{\\partial\\boldsymbol{x}}\n",
    "    \\end{array}\n",
    "  \\right],\n",
    "  \\\\[2mm]\n",
    "  \\Phi^{B}_{\\delta t}\n",
    "  \\left[\n",
    "    \\begin{array}{c}\n",
    "      \\boldsymbol{x} \\\\ \n",
    "      \\boldsymbol{p}\n",
    "    \\end{array}\n",
    "  \\right]\n",
    "  &=\n",
    "  \\left[\n",
    "    \\begin{array}{c}\n",
    "      \\boldsymbol{x} + \\delta t\\, \\mathbf{M}^{-1} \\boldsymbol{p} \\\\\n",
    "      \\boldsymbol{p} \\\\\n",
    "    \\end{array}\n",
    "  \\right].\n",
    "\\end{align}"
   ]
  },
  {
   "cell_type": "markdown",
   "metadata": {
    "slideshow": {
     "slide_type": "subslide"
    }
   },
   "source": [
    "Individually each of these steps is volume preserving\n",
    "\n",
    "\\begin{align}\n",
    "  \\left| \\frac{\\partial \\Phi^A_{\\delta t}}{\\partial\\boldsymbol{z}} \\right| &=\n",
    "  \\left|\n",
    "    \\begin{array}{cc}\n",
    "      \\mathbf{I} & \\mathbf{0} \\\\ \n",
    "      \\dots & \\mathbf{I}\n",
    "    \\end{array}\n",
    "  \\right| \n",
    "  = 1,\n",
    "  \\\\[2mm]\n",
    "  \\left| \\frac{\\partial \\Phi^B_{\\delta t}}{\\partial\\boldsymbol{z}} \\right| &=\n",
    "  \\left|\n",
    "    \\begin{array}{cc}\n",
    "      \\mathbf{I} & \\dots \\\\ \n",
    "      \\mathbf{0} & \\mathbf{I}\n",
    "    \\end{array}\n",
    "  \\right| \n",
    "  = 1.\n",
    "\\end{align}"
   ]
  },
  {
   "cell_type": "markdown",
   "metadata": {
    "slideshow": {
     "slide_type": "subslide"
    }
   },
   "source": [
    "Further any composition of the steps is also volume preserving. "
   ]
  },
  {
   "cell_type": "markdown",
   "metadata": {
    "slideshow": {
     "slide_type": "fragment"
    }
   },
   "source": [
    "In particular symmetric compositions of the form\n",
    "\n",
    "$$ \\Phi^{A}_{\\frac{1}{2}\\delta t} \\circ \\Phi^{B}_{\\delta t} \\circ \\Phi^{A}_{\\frac{1}{2}\\delta t} $$\n",
    "\n",
    "are also time reversible and symplectic."
   ]
  },
  {
   "cell_type": "markdown",
   "metadata": {
    "slideshow": {
     "slide_type": "subslide"
    }
   },
   "source": [
    "Overall this gives a single step of leapfrog dynamics as\n",
    "\n",
    "\\begin{align}\n",
    "  \\boldsymbol{p}^{\\left(n + \\frac{1}{2}\\right)} &= \\boldsymbol{p}^{(n)} - \\frac{1}{2} \\delta t \\left. \\frac{\\partial \\phi}{\\partial\\boldsymbol{x}} \\right|_{\\,\\boldsymbol{x}^{(n)}}\\\\[2mm]\n",
    "  \\boldsymbol{x}^{(n+1)} &= \\boldsymbol{x}^{(n)} + \\delta t \\, \\mathbf{M}^{-1} \\boldsymbol{p}^{\\left(n + \\frac{1}{2}\\right)} \\\\[2mm]\n",
    "  \\boldsymbol{p}^{(n)} &= \\boldsymbol{p}^{(n+1)} - \\frac{1}{2} \\delta t \\left. \\frac{\\partial \\phi}{\\partial\\boldsymbol{x}} \\right|_{\\,\\boldsymbol{x}^{(n+1)}}\\\\\n",
    "\\end{align}"
   ]
  },
  {
   "cell_type": "markdown",
   "metadata": {
    "slideshow": {
     "slide_type": "subslide"
    }
   },
   "source": [
    "In practice tend to combine half steps after initial one\n",
    "\n",
    "$$\n",
    "  \\Phi^{A}_{\\frac{1}{2}\\delta t} \\circ \\Phi^{B}_{\\delta t} \\circ \n",
    "  \\left\\lbrace  \\Phi^{A}_{\\frac{1}{2}\\delta t} \\circ \\Phi^{A}_{\\frac{1}{2}\\delta t} \\right\\rbrace \\circ \n",
    "  \\Phi^{B}_{\\delta t} \\circ\n",
    "  \\\\\\dots\n",
    "  \\left\\lbrace  \\Phi^{A}_{\\frac{1}{2}\\delta t} \\circ \\Phi^{A}_{\\frac{1}{2}\\delta t} \\right\\rbrace \\circ \n",
    "  \\Phi^{B}_{\\delta t} \\circ \\Phi^{A}_{\\frac{1}{2}\\delta t}\n",
    "$$"
   ]
  },
  {
   "cell_type": "markdown",
   "metadata": {
    "slideshow": {
     "slide_type": "fragment"
    }
   },
   "source": [
    "$$ =\n",
    "  \\Phi^{A}_{\\frac{1}{2}\\delta t} \\circ \\Phi^{B}_{\\delta t} \\circ \\Phi^{A}_{\\delta t}\n",
    "  \\circ \\Phi^{B}_{\\delta t}\n",
    "  \\dots\n",
    "  \\Phi^{A}_{\\delta t} \\circ \\Phi^{B}_{\\delta t} \\circ \\Phi^{A}_{\\frac{1}{2}\\delta t}.\n",
    "$$"
   ]
  },
  {
   "cell_type": "markdown",
   "metadata": {
    "slideshow": {
     "slide_type": "slide"
    }
   },
   "source": [
    "### Resampling momenta to ensure ergodicity\n",
    "\n",
    "Metropolis-Hastings updates with Hamiltonian dynamics proposals alone will not generally ensure ergodicity - constrained to near constant Hamiltonian surface."
   ]
  },
  {
   "cell_type": "markdown",
   "metadata": {
    "slideshow": {
     "slide_type": "fragment"
    }
   },
   "source": [
    "Overcome by alternating with a different Markov transition operator which leaves joint distribution invariant."
   ]
  },
  {
   "cell_type": "markdown",
   "metadata": {
    "slideshow": {
     "slide_type": "subslide"
    }
   },
   "source": [
    "In particular we can use any transition which leaves the conditional on the momenta given the positions invariant (c.f. Gibbs sampling). In case of standard HMC, momenta are independent of positions therefore resample independently from Gaussian distribution\n",
    "\n",
    "$$\n",
    "  \\boldsymbol{p} \\sim \\mathcal{N}\\left(\\cdot; \\boldsymbol{0}, \\mathbf{M}\\right).\n",
    "$$"
   ]
  },
  {
   "cell_type": "markdown",
   "metadata": {
    "slideshow": {
     "slide_type": "fragment"
    }
   },
   "source": [
    "More general update with partial momentum refreshal from Horowitz (1991) parameterised by $\\theta \\in \\left[0,\\,\\frac{\\pi}{2}\\right]$\n",
    "\n",
    "$$\n",
    "    \\boldsymbol{p}' = \\cos(\\theta)\\, \\boldsymbol{n} + \\sin(\\theta)\\, \\boldsymbol{p}\n",
    "    \\quad\n",
    "    \\text{with }\n",
    "    \\boldsymbol{n} \\sim \\mathcal{N}\\left(\\cdot; \\boldsymbol{0}, \\mathbf{M}\\right).\n",
    "$$"
   ]
  },
  {
   "cell_type": "markdown",
   "metadata": {
    "slideshow": {
     "slide_type": "slide"
    }
   },
   "source": [
    "## References and further reading\n",
    "\n",
    "  * [**Hybrid Monte Carlo**, Duane et al. (1987)](http://www.sciencedirect.com/science/article/pii/037026938791197X)  \n",
    "    *Paper which introduced HMC (with its original name)*.\n",
    "  * [**A Generalized Guided Hybrid Monte Carlo Algorithm**, Horowitz (1991)](http://www.sciencedirect.com/science/article/pii/0370269391908125)  \n",
    "    *Original description of partial momentum refreshing*."
   ]
  },
  {
   "cell_type": "markdown",
   "metadata": {
    "slideshow": {
     "slide_type": "subslide"
    }
   },
   "source": [
    "  * [**Simulating Hamiltonian Dynamics**, Leimkuhler and Reich (2005)](http://ebooks.cambridge.org/ebook.jsf?bid=CBO9780511614118)  \n",
    "    *Reference textbook for details of properties of Hamiltonian dynamics and their numerical simulation.*\n",
    "  * [**MCMC Using Hamiltonian Dynamics**, Neal (2012)](http://arxiv.org/abs/1206.1901)  \n",
    "    *Extensive review of Hamiltonian Monte Carlo and various practical implementation issues.*"
   ]
  }
 ],
 "metadata": {
  "celltoolbar": "Slideshow",
  "kernelspec": {
   "display_name": "Python 2",
   "language": "python",
   "name": "python2"
  },
  "language_info": {
   "codemirror_mode": {
    "name": "ipython",
    "version": 2
   },
   "file_extension": ".py",
   "mimetype": "text/x-python",
   "name": "python",
   "nbconvert_exporter": "python",
   "pygments_lexer": "ipython2",
   "version": "2.7.6"
  }
 },
 "nbformat": 4,
 "nbformat_minor": 0
}
