{
 "cells": [
  {
   "cell_type": "markdown",
   "metadata": {
    "slideshow": {
     "slide_type": "skip"
    }
   },
   "source": [
    "(LaTeX macro definitions)\n",
    "$$\n",
    "\\newcommand{\\lpa}{\\left(}\n",
    "\\newcommand{\\rpa}{\\right)}\n",
    "\\newcommand{\\lbr}{\\left\\lbrace}\n",
    "\\newcommand{\\rbr}{\\right\\rbrace}\n",
    "\\newcommand{\\lsb}{\\left[}\n",
    "\\newcommand{\\rsb}{\\right]}\n",
    "\\newcommand{\\dr}{\\mathrm{d}}\n",
    "\\newcommand{\\td}[2]{\\frac{\\dr #1}{\\dr #2}}\n",
    "\\newcommand{\\pd}[2]{\\frac{\\partial #1}{\\partial #2}}\n",
    "\\newcommand{\\pdd}[3]{\\frac{\\partial^2 #1}{\\partial #2 \\partial #3}}\n",
    "\\newcommand{\\vct}[1]{\\boldsymbol{#1}}\n",
    "\\newcommand{\\mtx}[1]{\\mathbf{#1}}\n",
    "\\newcommand{\\tr}{^\\mathrm{T}}\n",
    "\\newcommand{\\onevct}{\\vct{\\mathit{1}}}\n",
    "\\newcommand{\\zerovct}{\\vct{\\mathit{0}}}\n",
    "\\newcommand{\\onemtx}{\\mtx{1}}\n",
    "\\DeclareMathOperator{\\diag}{diag}\n",
    "\\DeclareMathOperator{\\Tr}{tr}\n",
    "\\newcommand{\\map}[1]{\\mathbf{#1}}\n",
    "\\newcommand{\\set}[1]{\\mathcal{#1}}\n",
    "\\newcommand{\\fset}[1]{\\lbr #1 \\rbr}\n",
    "\\newcommand{\\reals}{\\mathbb{R}}\n",
    "\\newcommand{\\naturals}{\\mathbb{N}}\n",
    "\\newcommand{\\ind}[1]{\\mathbbm{1}\\lsb #1 \\rsb}\n",
    "\\newcommand{\\bigo}[1]{\\mathcal{O}\\lpa #1\\rpa}\n",
    "\\newcommand{\\defas}{\\overset{\\underset{\\mathrm{def}}{}}{=}}\n",
    "\\DeclareMathOperator{\\realpart}{Re}\n",
    "\\DeclareMathOperator{\\imagpart}{Im}\n",
    "\\newcommand{\\prob}[1]{\\mathbb{P}\\lsb #1 \\rsb}\n",
    "\\newcommand{\\pdf}[2]{p_{#1}(#2)}\n",
    "\\newcommand{\\rvar}[1]{\\mathsf{#1}}\n",
    "\\newcommand{\\rvct}[1]{\\boldsymbol{\\rvar{#1}}}\n",
    "\\newcommand{\\nrm}[1]{\\mathcal{N}\\lpa #1 \\rpa}\n",
    "\\newcommand{\\gvn}{\\,|\\,}\n",
    "\\newcommand{\\rng}[2]{\\lbr #1 \\dots #2 \\rbr}\n",
    "\\newcommand{\\expc}[2]{\\mathbb{E}_{#1}\\lsb #2 \\rsb}\n",
    "\\newcommand{\\var}[1]{\\mathbb{V}\\lsb #1 \\rsb}\n",
    "\\newcommand{\\asymvar}[2]{\\sigma^2 \\lsb #2 ; #1\\rsb}\n",
    "\\newcommand{\\ivdstsym}{\\pi}\n",
    "\\newcommand{\\ivdst}[2]{\\ivdstsym_{#1} \\lsb #2 \\rsb}\n",
    "$$"
   ]
  },
  {
   "cell_type": "markdown",
   "metadata": {
    "slideshow": {
     "slide_type": "slide"
    }
   },
   "source": [
    "# Hamiltonian Monte Carlo\n",
    "\n",
    "## A brief(ish) introduction"
   ]
  },
  {
   "cell_type": "markdown",
   "metadata": {
    "slideshow": {
     "slide_type": "slide"
    }
   },
   "source": [
    "## Motivation"
   ]
  },
  {
   "cell_type": "markdown",
   "metadata": {
    "slideshow": {
     "slide_type": "subslide"
    }
   },
   "source": [
    "### Problem definition\n",
    "\n",
    "Given some probability distribution defined on a real vector space $\\reals^N$ by the (potentially unnormalised) density function\n",
    "\n",
    "$$ \n",
    "  \\ivdst{\\rvct{x}}{\\vct{x}} \\propto\n",
    "  \\exp \\lbr - \\phi(\\vct{x}) \\rbr\n",
    "$$\n",
    "\n",
    "generate a set of samples $\\fset{\\vct{x}^{(i)}}_{i=1}^M$ from a Markov chain which has the distribution defined by $\\ivdstsym_{\\rvct{x}}$ as its unique invariant measure so that they can be used to compute Monte Carlo approximation to expectations with respect to this distribution \n",
    "\n",
    "$$\n",
    "  \\expc{\\ivdstsym_{\\rvct{x}}}{f} \\approx \\frac{1}{M} \\sum_{i=1}^M \\lbr f\\lpa \\vct{x}^{(i)} \\rpa \\rbr\n",
    "$$"
   ]
  },
  {
   "cell_type": "markdown",
   "metadata": {
    "slideshow": {
     "slide_type": "subslide"
    }
   },
   "source": [
    "### Assumptions\n",
    "\n",
    "  * Support of distribution is full vector space: $\\ivdst{\\rvct{x}}{\\vct{x}} > 0 ~~\\forall \\vct{x} \\in \\reals^N$\n",
    "    * If support is some bounded subset can sometimes transform to equivalent unconstrained space using variable transform.\n",
    "  * Density function (and energy) is everywhere differentiable with respect to $\\vct{x}$ and the gradients can be tractably computed."
   ]
  },
  {
   "cell_type": "markdown",
   "metadata": {
    "slideshow": {
     "slide_type": "subslide"
    }
   },
   "source": [
    "### Metropolis-Hastings - quick recap\n",
    "\n",
    "Define a proposal density $q(\\vct{x}' \\gvn \\vct{x})$ we can tractably sample from, generate a sample from it given the current state and then accept the proposal with probability\n",
    "\n",
    "$$\n",
    "  a_{\\rvct{x}^{(t+1)} \\gvn \\rvct{x}^{(t)}} \\lsb \\vct{x}' \\gvn \\vct{x} \\rsb =\n",
    "  \\min \\lbr 1, \n",
    "    \\frac{q(\\vct{x} \\gvn \\vct{x}') \\ivdst{\\rvct{x}}{\\vct{x}'}} \n",
    "         {q(\\vct{x}' \\gvn \\vct{x}) \\ivdst{\\rvct{x}}{\\vct{x}}} \\left|\\pd{\\vct{x}'}{\\vct{x}}\\right| \\rbr\n",
    "$$\n",
    "\n",
    "For derivation and explanation of Jacobian term in acceptance ratio see [Green (1995)](http://biomet.oxfordjournals.org/content/82/4/711.short) or [Lan et al. (2012)](http://arxiv.org/abs/1211.3759)."
   ]
  },
  {
   "cell_type": "markdown",
   "metadata": {
    "slideshow": {
     "slide_type": "subslide"
    }
   },
   "source": [
    "If proposal density is symmetric: $q(\\vct{x}' \\gvn \\vct{x}) = q(\\vct{x} \\gvn \\vct{x}') ~~\\forall \\vct{x},~ \\vct{x}' \\in \\reals^N$ and $\\ivdstsym_\\rvct{x}$ is as defined above then the acceptance probability reduces to\n",
    "\n",
    "$$\n",
    "  a_{\\rvct{x}^{(t+1)} \\gvn \\rvct{x}^{(t)}} \\lsb \\vct{x}' \\gvn \\vct{x} \\rsb =\n",
    "  \\min \\lbr 1, \\exp\\lsb \\phi(\\vct{x}) - \\phi(\\vct{x}') \\rsb \\left|\\pd{\\vct{x}'}{\\vct{x}}\\right| \\rbr\n",
    "$$\n",
    "\n",
    "Key problem is finding proposal density that allows proposes 'large' moves with high probability of acceptance."
   ]
  },
  {
   "cell_type": "markdown",
   "metadata": {
    "slideshow": {
     "slide_type": "slide"
    }
   },
   "source": [
    "## Abstract description of   \n",
    "## Hamiltonian Monte Carlo"
   ]
  },
  {
   "cell_type": "markdown",
   "metadata": {
    "slideshow": {
     "slide_type": "subslide"
    }
   },
   "source": [
    "### Augment state space\n",
    "\n",
    "Augment state space with a vector 'momentum' variable $\\rvct{p} \\in \\reals^N$ and a signed 'time direction' variable $\\rvar{d} \\in \\fset{-1,+1}$ with conditional invariant distribution densities\n",
    "\n",
    "$$\n",
    "  \\ivdst{\\rvct{y}\\gvn\\rvct{x}}{\\vct{p}\\gvn\\vct{x}} \\propto \\exp\\lbr - \\tau(\\vct{x}, \\vct{p}) \\rbr\n",
    "  \\text{  and  }\n",
    "  \\ivdst{\\rvar{d}\\gvn\\rvct{x},\\rvct{p}}{d | \\vct{x}, \\vct{p}} = \\frac{1}{2}\n",
    "$$\n",
    "\n",
    "giving joint invariant density\n",
    "\n",
    "\\begin{align}\n",
    "  \\ivdst{\\rvct{x},\\,\\rvct{p},\\,\\rvar{d}}{\\vct{x},\\,\\vct{p},\\,d} &\\propto \n",
    "  \\exp\\lbr - \\phi(\\vct{x}) - \\tau(\\vct{x}, \\vct{p}) \\rbr \\\\\n",
    "  &=\n",
    "  \\exp\\lbr - H(\\vct{x}, \\vct{p}) \\rbr\n",
    "\\end{align}"
   ]
  },
  {
   "cell_type": "markdown",
   "metadata": {
    "slideshow": {
     "slide_type": "subslide"
    }
   },
   "source": [
    "### Hamiltonian dynamic in augmented state space\n",
    "\n",
    "If $\\mtx{S} = -\\mtx{S}\\tr \\in \\reals^{2N\\times 2N}$ is a constant non-singular skew-symmetric matrix then we can define a Hamiltonian dynamic on the joint system $\\vct{z} = \\lsb \\vct{x}\\tr ~~ \\vct{p}\\tr \\rsb\\tr$ by\n",
    "\n",
    "$$\n",
    "  \\td{\\vct{z}}{t} = d \\, \\mtx{S} \\pd{H}{\\vct{z}} ~~\\Leftrightarrow~~\n",
    "  \\left[\n",
    "    \\begin{array}{c}\n",
    "      \\td{\\vct{x}}{t} \\\\ \n",
    "      \\td{\\vct{p}}{t}\n",
    "    \\end{array}\n",
    "  \\right]\n",
    "  =\n",
    "  d \\, \\mtx{S}\n",
    "  \\left[\n",
    "    \\begin{array}{c}\n",
    "      \\pd{H}{\\vct{x}} \\\\ \n",
    "      \\pd{H}{\\vct{p}}\n",
    "    \\end{array}\n",
    "  \\right]\n",
    "$$\n",
    "\n",
    "with flow map $\\Psi_{T,d}\\lbr \\vct{z}_0 \\rbr = \\vct{z}(T)$ defined by the solution $\\vct{z}(T)$ to the initial value problem\n",
    "\n",
    "$$\n",
    "  \\td{\\vct{z}}{t} = \\pd{H}{\\vct{z}}, ~~\n",
    "  \\vct{z}(0) = \\vct{z}_0, ~~\n",
    "  t \\in [0, T].\n",
    "$$\n",
    "\n",
    "Typically $\n",
    "  \\mtx{S} = \n",
    "  \\left[\n",
    "    \\begin{array}{cc}\n",
    "      \\mtx{0} & \\mtx{I} \\\\ \n",
    "      -\\mtx{I} & \\mtx{0}\n",
    "    \\end{array}\n",
    "  \\right]\n",
    "$ in which case the dynamic is *canonical*."
   ]
  },
  {
   "cell_type": "markdown",
   "metadata": {
    "slideshow": {
     "slide_type": "subslide"
    }
   },
   "source": [
    "### Properties of dynamic\n",
    "\n",
    "This dynamic\n",
    "\n",
    "  * exactly preserves the Hamiltonian $H(\\vct{z})$\n",
    "  \n",
    "  $$\n",
    "    \\td{H}{t} = \\pd{H}{\\vct{z}}\\tr \\td{\\vct{z}}{t} = d \\pd{H}{\\vct{z}}\\tr \\mtx{S} \\pd{H}{\\vct{z}} = 0\n",
    "  $$\n",
    "  \n",
    "  * preserves volume as flow is divergence-free  \n",
    "  (Liouville's theorem)\n",
    "  \n",
    "  $$\n",
    "    \\lpa \\pd{}{\\vct{z}} \\rpa\\tr \\td{\\vct{z}}{t} = \\Tr \\lsb \\mtx{S} \\pdd{H}{\\vct{z}}{\\vct{z}\\tr} \\rsb = 0\n",
    "    ~~\\Rightarrow~~\n",
    "    \\pd{\\Phi_{T,d}}{\\vct{z}} = \\mtx{I}\n",
    "  $$\n",
    "\n",
    "  * is reversible under negation of $\\rvar{d}$\n",
    "  \n",
    "  $$\n",
    "    \\text{If } \\vct{z}' = \n",
    "    \\Psi_{T,+1} \\lbr \\vct{z} \\rbr\n",
    "    \\text{ then } \\vct{z} = \n",
    "    \\Psi_{T,-1} \\lbr \\vct{z}' \\rbr.\n",
    "  $$"
   ]
  },
  {
   "cell_type": "markdown",
   "metadata": {
    "slideshow": {
     "slide_type": "subslide"
    }
   },
   "source": [
    "The dynamic also has the further property of being *symplectic map* with respect to the *structure matrix* $\\mtx{S}$\n",
    "\n",
    "$$\n",
    "    \\pd{\\Psi_{T,d}\\lbr\\vct{z}\\rbr}{\\vct{z}}\\tr \\mtx{S}^{-1} \n",
    "    \\pd{\\Psi_{T,d}\\lbr\\vct{z}\\rbr}{\\vct{z}} = \\mtx{S}^{-1}\n",
    "$$\n",
    "\n",
    "see for example [Leimkuhler and Reich (2005)](http://ebooks.cambridge.org/ebook.jsf?bid=CBO9780511614118) for proof and more details. \n",
    "\n",
    "Symplecticness implies volume preservation but is a more stringent requirment for $N > 1$."
   ]
  },
  {
   "cell_type": "markdown",
   "metadata": {
    "slideshow": {
     "slide_type": "subslide"
    }
   },
   "source": [
    "### Exact Hamiltonian Monte Carlo\n",
    "\n",
    "If we therefore define a proposal density\n",
    "\n",
    "$$\n",
    "  q(\\vct{z}', d' \\gvn \\vct{z}, d) = \\delta \\lpa \\Psi_{T,d}\\lbr \\vct{z} \\rbr - \\vct{z}' \\rpa \\delta \\lsb d - (-d') \\rsb\n",
    "$$\n",
    "\n",
    "i.e. propose new state by deterministically running Hamiltonian dynamics forward $T$ units of time then reverse time flow, then our acceptance probability will be unity\n",
    "\n",
    "$$\n",
    "  \\min \\lbr 1, \\exp\\lsb H(\\vct{z}') - H(\\vct{z}) \\rsb \\left|\\pd{\\vct{z}'}{\\vct{z}}\\right| \\rbr = 1.\n",
    "$$"
   ]
  },
  {
   "cell_type": "markdown",
   "metadata": {
    "slideshow": {
     "slide_type": "subslide"
    }
   },
   "source": [
    "We can then deterministically flip $\\rvar{d}$ (so on the next proposal we won't go back to our previous point) as \n",
    "\n",
    "$$\n",
    "  \\ivdst{\\rvar{d}\\gvn\\rvct{x},\\rvct{p}}{+1 | \\vct{x}, \\vct{p}} = \n",
    "  \\ivdst{\\rvar{d}\\gvn\\rvct{x},\\rvct{p}}{-1 | \\vct{x}, \\vct{p}} = \\frac{1}{2}\n",
    "$$ \n",
    "\n",
    "and so this move also leaves the joint density invariant. \n",
    "\n",
    "This composition of transitions will *not* be ergodic however in joint state space as we remain confined to the same constant Hamiltonian manifold."
   ]
  },
  {
   "cell_type": "markdown",
   "metadata": {
    "slideshow": {
     "slide_type": "slide"
    }
   },
   "source": [
    "## Moving to a concrete implementation"
   ]
  },
  {
   "cell_type": "markdown",
   "metadata": {
    "slideshow": {
     "slide_type": "subslide"
    }
   },
   "source": [
    "### Simulating Hamiltonian dynamics in practice\n",
    "\n",
    "  * In reality for most systems of interest we cannot compute the flow map $\\Psi_{T,d}$ exactly and so have to resort to discretisation and numerical integration.\n",
    "  \n",
    "  * Importantly there are numerical integration schemes which define an approximate flow map $\\tilde{\\Psi}_{T,d}$ which conserve the volume-preservation and reversibility properties of the exact dynamic $\\Psi_{T,d}$."
   ]
  },
  {
   "cell_type": "markdown",
   "metadata": {
    "slideshow": {
     "slide_type": "subslide"
    }
   },
   "source": [
    "  * In general Hamiltonian no longer exactly conserved under discretisation so will be some rejections.\n",
    "  * There is a class of integrators which also preserve the symplectic map property of the exact dynamic.\n",
    " "
   ]
  },
  {
   "cell_type": "markdown",
   "metadata": {
    "slideshow": {
     "slide_type": "subslide"
    }
   },
   "source": [
    "  * Symplectic integrators have a very desirable further invariance property: \n",
    "    * providing the discretised dynamic is stable they exactly integrate the dynamic of some alternative 'nearby' Hamiltonian\n",
    "    * this is bounded to be within a fixed distance (depending on $\\delta t$ the discretisation time step) of the original Hamiltonian.\n",
    "    * therefore still possible to integrate dynamics over long time periods with high probability of acceptance."
   ]
  },
  {
   "cell_type": "markdown",
   "metadata": {
    "slideshow": {
     "slide_type": "subslide"
    }
   },
   "source": [
    "### Standard (‘Euclidean manifold’) HMC\n",
    "\n",
    "The standard (and original) implementation of HMC augments the system with variables which are independent of the original state and have a Gaussian conditional / marginal\n",
    "\n",
    "$$\n",
    "  \\ivdst{\\rvct{p}\\gvn\\rvct{x}}{\\vct{p}\\gvn\\vct{x}} =\n",
    "  \\ivdst{\\rvct{p}}{\\vct{p}} \\propto\n",
    "  \\exp \\lbr - \\underbrace{ \\frac{1}{2}\\vct{p}\\tr\\mtx{M}^{-1}\\vct{p}}_{\\tau(\\vct{p})} \\rbr\n",
    "$$"
   ]
  },
  {
   "cell_type": "markdown",
   "metadata": {
    "slideshow": {
     "slide_type": "subslide"
    }
   },
   "source": [
    "The derivative $\\pd{\\tau}{\\vct{p}} = \\mtx{M}^{-1}\\vct{p}$ is now just a linear transform of the $\\vct{p}$ variables which can be considered in analogy to Newtonian mechanics momentum variables with $\\mtx{M}$ a mass matrix.\n",
    "\n",
    "$$\n",
    "    \\mtx{M} \\td{^2\\vct{x}}{t^2} = \\vct{f}(\\vct{x}) ~\\Leftrightarrow~\n",
    "    \\td{\\vct{x}}{t} = \\mtx{M}^{-1} \\vct{p} ~~~\n",
    "    \\td{\\vct{p}}{t} = \\vct{f}({x}) = -\\pd{\\phi}{\\vct{x}}\n",
    "$$"
   ]
  },
  {
   "cell_type": "markdown",
   "metadata": {
    "slideshow": {
     "slide_type": "subslide"
    }
   },
   "source": [
    "In this case as the distribution on $\\rvct{p}$ is symmetric there is no need to add a further binary direction variable $\\rvar{d}$ as reversibility can be achieved by negating the momentum variables (which leaves there density invariant).\n",
    "\n",
    "$$ \\tau(\\vct{p}) = \\tau(-\\vct{p}) = \\frac{1}{2}\\vct{p}\\tr\\mtx{M}^{-1}\\vct{p} $$\n",
    "\n",
    "Further as $\\ivdst{\\rvct{p}\\gvn\\rvct{x}}{\\vct{p}\\gvn\\vct{x}}$ is Gaussian we can easily resample the momentum variables between dynamic proposal updates to alter the energy of the system and ensure ergodicity."
   ]
  },
  {
   "cell_type": "markdown",
   "metadata": {
    "slideshow": {
     "slide_type": "subslide"
    }
   },
   "source": [
    "### Leapfrog updates\n",
    "  \n",
    "For standard HMC the Hamiltonian is *separable* (no terms coupling $\\vct{x}$ and $\\vct{p}$) for which under a canonical dynamic\n",
    "  \n",
    "$$\n",
    "  \\left[\n",
    "    \\begin{array}{c}\n",
    "      \\td{\\vct{x}}{t} \\\\ \n",
    "      \\td{\\vct{p}}{t}\n",
    "    \\end{array}\n",
    "  \\right]\n",
    "  =\n",
    "  \\left[\n",
    "    \\begin{array}{cc}\n",
    "      \\mtx{0} & \\mtx{I} \\\\ \n",
    "      -\\mtx{I} & \\mtx{0}\n",
    "    \\end{array}\n",
    "  \\right]\n",
    "  \\left[\n",
    "    \\begin{array}{c}\n",
    "      \\pd{H}{\\vct{x}} \\\\ \n",
    "      \\pd{H}{\\vct{p}}\n",
    "    \\end{array}\n",
    "  \\right]\n",
    "  =\n",
    "    \\left[\n",
    "    \\begin{array}{c}\n",
    "      \\mtx{M}^{-1}\\vct{p} \\\\ \n",
    "      -\\pd{\\phi}{\\vct{x}}\n",
    "    \\end{array}\n",
    "  \\right]\n",
    "$$\n",
    "\n",
    "there is a particularly efficient symplectic integration scheme called the leapgfrog method composed of two step types\n",
    "\n",
    "$$\n",
    "  \\left[\n",
    "    \\begin{array}{c}\n",
    "      \\vct{x}^\\star \\\\ \n",
    "      \\vct{p}^\\star\n",
    "    \\end{array}\n",
    "  \\right]\n",
    "  =\n",
    "  \\Phi^{A}_{\\delta t}\n",
    "  \\left[\n",
    "    \\begin{array}{c}\n",
    "      \\vct{x} \\\\ \n",
    "      \\vct{p}\n",
    "    \\end{array}\n",
    "  \\right]\n",
    "  =\n",
    "  \\left[\n",
    "    \\begin{array}{c}\n",
    "      \\vct{x} \\\\\n",
    "      \\vct{p} - \\delta t \\pd{\\phi}{\\vct{x}}\n",
    "    \\end{array}\n",
    "  \\right]\n",
    "  \\\\\n",
    "  \\left[\n",
    "    \\begin{array}{c}\n",
    "      \\vct{x}' \\\\ \n",
    "      \\vct{p}'\n",
    "    \\end{array}\n",
    "  \\right]\n",
    "  =\n",
    "  \\Phi^{B}_{\\delta t}\n",
    "  \\left[\n",
    "    \\begin{array}{c}\n",
    "      \\vct{x} \\\\ \n",
    "      \\vct{p}\n",
    "    \\end{array}\n",
    "  \\right]\n",
    "  =\n",
    "  \\left[\n",
    "    \\begin{array}{c}\n",
    "      \\vct{x} + \\delta t \\mtx{M}^{-1} \\vct{p} \\\\\n",
    "      \\vct{p} \\\\\n",
    "    \\end{array}\n",
    "  \\right]\n",
    "$$"
   ]
  },
  {
   "cell_type": "markdown",
   "metadata": {
    "slideshow": {
     "slide_type": "subslide"
    }
   },
   "source": [
    "Individually each of these steps is volume preserving\n",
    "\n",
    "$$\n",
    "  \\left| \\pd{\\Phi^A_{\\delta t}}{\\vct{z}} \\right| =\n",
    "  \\left|\n",
    "    \\begin{array}{cc}\n",
    "      \\pd{\\vct{x}^\\star}{\\vct{x}} & \\pd{\\vct{x}^\\star}{\\vct{p}} \\\\ \n",
    "      \\pd{\\vct{p}^\\star}{\\vct{x}} & \\pd{\\vct{p}^\\star}{\\vct{p}} \\\\ \n",
    "    \\end{array}\n",
    "  \\right|\n",
    "  =\n",
    "  \\left|\n",
    "    \\begin{array}{cc}\n",
    "      \\mtx{I} & \\mtx{0} \\\\ \n",
    "      -\\delta t\\pdd{\\phi}{\\vct{x}}{\\vct{x}\\tr} & \\mtx{I}\n",
    "    \\end{array}\n",
    "  \\right| = 1\n",
    "  \\\\\n",
    "  \\left| \\pd{\\Phi^B_{\\delta t}}{\\vct{z}} \\right| =\n",
    "  \\left|\n",
    "    \\begin{array}{cc}\n",
    "      \\pd{\\vct{x}'}{\\vct{x}} & \\pd{\\vct{x}'}{\\vct{p}} \\\\ \n",
    "      \\pd{\\vct{p}'}{\\vct{x}} & \\pd{\\vct{p}'}{\\vct{p}} \\\\ \n",
    "    \\end{array}\n",
    "  \\right|\n",
    "  =\n",
    "  \\left|\n",
    "    \\begin{array}{cc}\n",
    "      \\mtx{I} & \\delta t \\mtx{M}^{-1} \\\\ \n",
    "      \\mtx{0} & \\mtx{I}\n",
    "    \\end{array}\n",
    "  \\right| = 1\n",
    "$$\n",
    "\n",
    "and therefore any composition of them is also. In particular symmetric compositions of the form\n",
    "\n",
    "$$ \\Phi^{A}_{\\frac{1}{2}\\delta t} \\circ \\Phi^{B}_{\\delta t} \\circ \\Phi^{A}_{\\frac{1}{2}\\delta t} $$\n",
    "\n",
    "are also time reversible and symplectic (therefore 'nearby' Hamiltonian exactly conserved)."
   ]
  },
  {
   "cell_type": "markdown",
   "metadata": {
    "slideshow": {
     "slide_type": "subslide"
    }
   },
   "source": [
    "Overall this gives a single step of leapfrog dynamics as\n",
    "\n",
    "\\begin{align}\n",
    "  \\vct{p}^\\star &= \\vct{p} - \\frac{1}{2} \\delta t \\left. \\pd{\\phi}{\\vct{x}} \\right|_{\\vct{x}}\\\\\n",
    "  \\vct{x}' &= \\vct{x} + \\delta t \\, \\mtx{M}^{-1} \\vct{p}^\\star \\\\\n",
    "  \\vct{p}' &= \\vct{p}^\\star - \\frac{1}{2} \\delta t \\left. \\pd{\\phi}{\\vct{x}} \\right|_{\\vct{x}'}\\\\\n",
    "\\end{align}\n",
    "\n",
    "In practice tend to combine half steps after initial one\n",
    "\n",
    "$$\n",
    "  \\lbr \\Phi^{A}_{\\frac{1}{2}\\delta t} \\circ \\Phi^{B}_{\\delta t} \\circ \\Phi^{A}_{\\frac{1}{2}\\delta t} \\rbr\n",
    "  \\lbr \\Phi^{A}_{\\frac{1}{2}\\delta t} \\circ \\Phi^{B}_{\\delta t} \\circ \\Phi^{A}_{\\frac{1}{2}\\delta t} \\rbr\n",
    "  \\dots\n",
    "  \\lbr \\Phi^{A}_{\\frac{1}{2}\\delta t} \\circ \\Phi^{B}_{\\delta t} \\circ \\Phi^{A}_{\\frac{1}{2}\\delta t} \\rbr \n",
    "  =\\\\\n",
    "  \\Phi^{A}_{\\frac{1}{2}\\delta t} \\circ \\Phi^{B}_{\\delta t} \\circ \\Phi^{A}_{\\delta t}\n",
    "  \\circ \\Phi^{B}_{\\delta t} \\circ \\Phi^{A}_{\\delta t}\n",
    "  \\dots\n",
    "  \\circ \\Phi^{B}_{\\delta t} \\circ \\Phi^{A}_{\\frac{1}{2}\\delta t}\n",
    "$$\n"
   ]
  },
  {
   "cell_type": "markdown",
   "metadata": {
    "slideshow": {
     "slide_type": "subslide"
    }
   },
   "source": [
    "### Resampling momenta to ensure ergodicity\n",
    "\n",
    "Metropolis-Hastings updates with Hamiltonian dynamics proposals alone will not generally ensure ergodicity - constrained to near constant Hamiltonian surface.\n",
    "\n",
    "Overcome by alternating with a different Markov transition operator which leaves joint distribution invariant.\n",
    "\n",
    "In particular we can use any transition which leaves the conditional on the momenta given the positions invariant (c.f. Gibbs sampling). In case of standard HMC, momenta are independent of positions therefore resample independently from Gaussian distribution.\n",
    "\n",
    "More general update with partial momentum refreshal from Horowitz (1991):\n",
    "\n",
    "$$\n",
    "    \\vct{p}' = \\cos\\theta ~ \\vct{n} + \\sin\\theta ~ \\vct{p}\n",
    "    \\qquad\n",
    "    \\text{with }\n",
    "    \\vct{n} \\sim \\nrm{\\cdot; \\vct{0}, \\mtx{M}}\n",
    "$$"
   ]
  },
  {
   "cell_type": "markdown",
   "metadata": {
    "slideshow": {
     "slide_type": "slide"
    }
   },
   "source": [
    "## References and further reading\n",
    "\n",
    "  * [**Hybrid Monte Carlo**, Duane et al. (1987)](http://www.sciencedirect.com/science/article/pii/037026938791197X)  \n",
    "    *Paper which introduced HMC (with its original name)*\n",
    "  * [**A Generalized Guided Hybrid Monte Carlo Algorithm**, Horowitz (1991)](http://www.sciencedirect.com/science/article/pii/0370269391908125)  \n",
    "    *Original description of partial momentum refreshing*\n",
    "  * [**Simulating Hamiltonian Dynamics**, Leimkuhler and Reich (2005)](http://ebooks.cambridge.org/ebook.jsf?bid=CBO9780511614118)  \n",
    "    *Good reference textbook for details of properties of Hamiltonian dynamics.*\n",
    "  * [**MCMC Using Hamiltonian Dynamics**, Neal (2012)](http://arxiv.org/abs/1206.1901)  \n",
    "    *Extensive review of Hamiltonian Monte Carlo and various practical implementation issues.*"
   ]
  }
 ],
 "metadata": {
  "celltoolbar": "Slideshow",
  "kernelspec": {
   "display_name": "Python 2",
   "language": "python",
   "name": "python2"
  },
  "language_info": {
   "codemirror_mode": {
    "name": "ipython",
    "version": 2
   },
   "file_extension": ".py",
   "mimetype": "text/x-python",
   "name": "python",
   "nbconvert_exporter": "python",
   "pygments_lexer": "ipython2",
   "version": "2.7.6"
  }
 },
 "nbformat": 4,
 "nbformat_minor": 0
}
